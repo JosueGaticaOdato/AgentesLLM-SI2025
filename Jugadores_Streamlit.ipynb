{
  "cells": [
    {
      "cell_type": "markdown",
      "metadata": {
        "id": "HaO_6bjDay2c"
      },
      "source": [
        "#🎮Trabajo Final -  Consultas Inteligentes sobre Jugadores del FIFA 23\n",
        "Este trabajo final integra técnicas de procesamiento de lenguaje natural con modelos de embeddings y un LLM para permitir consultas en lenguaje natural sobre datos de jugadores del **FIFA 23**.\n",
        "\n",
        "🧾 Los datos fueron obtenidos de un archivo CSV con estadísticas detalladas de jugadores como:\n",
        "- Nombre del equipo\n",
        "- Posiciones\n",
        "- Liga\n",
        "- Dorsal\n",
        "- Estadísticas del jugador (valoracion, potencial, valor, velocidad)\n",
        "\n",
        "⚙️ La app utiliza:\n",
        "- **HuggingFace Embeddings** para vectorizar los datos (GPU si está disponible)\n",
        "- **Gemini (Google)** como modelo de lenguaje para responder consultas ( Modelo: gemini-2.0-flash)\n",
        "- **LlamaIndex** para realizar búsquedas semánticas sobre los datos\n",
        "- **Streamlit** para la interfaz interactiva"
      ]
    },
    {
      "cell_type": "markdown",
      "metadata": {
        "id": "ai5Dh4FGa6-T"
      },
      "source": [
        "##Instalacion de dependencias"
      ]
    },
    {
      "cell_type": "code",
      "execution_count": 1,
      "metadata": {
        "colab": {
          "base_uri": "https://localhost:8080/"
        },
        "collapsed": true,
        "id": "PF-IycGS_wz4",
        "outputId": "e122e6c0-917b-4437-e1c6-c9cb889cd7b7"
      },
      "outputs": [
        {
          "name": "stderr",
          "output_type": "stream",
          "text": [
            "\n",
            "[notice] A new release of pip is available: 24.0 -> 25.1.1\n",
            "[notice] To update, run: python.exe -m pip install --upgrade pip\n"
          ]
        }
      ],
      "source": [
        "!pip install llama-index llama-index-embeddings-huggingface llama-index-llms-langchain langchain-community langchain-google-genai google-generativeai pandas torch --quiet"
      ]
    },
    {
      "cell_type": "markdown",
      "metadata": {
        "id": "PV35Px8vRuOg"
      },
      "source": [
        "##Lectura del dataset"
      ]
    },
    {
      "cell_type": "code",
      "execution_count": 2,
      "metadata": {
        "colab": {
          "base_uri": "https://localhost:8080/",
          "height": 359
        },
        "collapsed": true,
        "id": "bcb9_4SAtEOB",
        "outputId": "7cfc0f9f-dc39-415d-8f22-dd23842a3c1b"
      },
      "outputs": [
        {
          "data": {
            "text/html": [
              "<div>\n",
              "<style scoped>\n",
              "    .dataframe tbody tr th:only-of-type {\n",
              "        vertical-align: middle;\n",
              "    }\n",
              "\n",
              "    .dataframe tbody tr th {\n",
              "        vertical-align: top;\n",
              "    }\n",
              "\n",
              "    .dataframe thead th {\n",
              "        text-align: right;\n",
              "    }\n",
              "</style>\n",
              "<table border=\"1\" class=\"dataframe\">\n",
              "  <thead>\n",
              "    <tr style=\"text-align: right;\">\n",
              "      <th></th>\n",
              "      <th>id_jugador</th>\n",
              "      <th>nombre_corto</th>\n",
              "      <th>nombre_largo</th>\n",
              "      <th>posiciones_jugador</th>\n",
              "      <th>valoracion_general</th>\n",
              "      <th>potencial</th>\n",
              "      <th>valor_eur</th>\n",
              "      <th>salario_eur</th>\n",
              "      <th>edad</th>\n",
              "      <th>fecha_nacimiento</th>\n",
              "      <th>...</th>\n",
              "      <th>contencion_izq</th>\n",
              "      <th>contencion</th>\n",
              "      <th>contencion_der</th>\n",
              "      <th>lateral_der_ofensivo</th>\n",
              "      <th>lateral_izq</th>\n",
              "      <th>central_izq</th>\n",
              "      <th>central</th>\n",
              "      <th>central_der</th>\n",
              "      <th>lateral_der</th>\n",
              "      <th>arquero</th>\n",
              "    </tr>\n",
              "  </thead>\n",
              "  <tbody>\n",
              "    <tr>\n",
              "      <th>0</th>\n",
              "      <td>158023</td>\n",
              "      <td>L. Messi</td>\n",
              "      <td>Lionel Andrés Messi Cuccittini</td>\n",
              "      <td>RW</td>\n",
              "      <td>91</td>\n",
              "      <td>91</td>\n",
              "      <td>54000000.0</td>\n",
              "      <td>195000.0</td>\n",
              "      <td>35</td>\n",
              "      <td>1987-06-24</td>\n",
              "      <td>...</td>\n",
              "      <td>63+3</td>\n",
              "      <td>63+3</td>\n",
              "      <td>63+3</td>\n",
              "      <td>64+3</td>\n",
              "      <td>59+3</td>\n",
              "      <td>50+3</td>\n",
              "      <td>50+3</td>\n",
              "      <td>50+3</td>\n",
              "      <td>59+3</td>\n",
              "      <td>19+3</td>\n",
              "    </tr>\n",
              "    <tr>\n",
              "      <th>1</th>\n",
              "      <td>165153</td>\n",
              "      <td>K. Benzema</td>\n",
              "      <td>Karim Benzema</td>\n",
              "      <td>CF, ST</td>\n",
              "      <td>91</td>\n",
              "      <td>91</td>\n",
              "      <td>64000000.0</td>\n",
              "      <td>450000.0</td>\n",
              "      <td>34</td>\n",
              "      <td>1987-12-19</td>\n",
              "      <td>...</td>\n",
              "      <td>64+3</td>\n",
              "      <td>64+3</td>\n",
              "      <td>64+3</td>\n",
              "      <td>64+3</td>\n",
              "      <td>60+3</td>\n",
              "      <td>55+3</td>\n",
              "      <td>55+3</td>\n",
              "      <td>55+3</td>\n",
              "      <td>60+3</td>\n",
              "      <td>18+3</td>\n",
              "    </tr>\n",
              "    <tr>\n",
              "      <th>2</th>\n",
              "      <td>188545</td>\n",
              "      <td>R. Lewandowski</td>\n",
              "      <td>Robert Lewandowski</td>\n",
              "      <td>ST</td>\n",
              "      <td>91</td>\n",
              "      <td>91</td>\n",
              "      <td>84000000.0</td>\n",
              "      <td>420000.0</td>\n",
              "      <td>33</td>\n",
              "      <td>1988-08-21</td>\n",
              "      <td>...</td>\n",
              "      <td>66+3</td>\n",
              "      <td>66+3</td>\n",
              "      <td>66+3</td>\n",
              "      <td>64+3</td>\n",
              "      <td>61+3</td>\n",
              "      <td>60+3</td>\n",
              "      <td>60+3</td>\n",
              "      <td>60+3</td>\n",
              "      <td>61+3</td>\n",
              "      <td>19+3</td>\n",
              "    </tr>\n",
              "    <tr>\n",
              "      <th>3</th>\n",
              "      <td>192985</td>\n",
              "      <td>K. De Bruyne</td>\n",
              "      <td>Kevin De Bruyne</td>\n",
              "      <td>CM, CAM</td>\n",
              "      <td>91</td>\n",
              "      <td>91</td>\n",
              "      <td>107500000.0</td>\n",
              "      <td>350000.0</td>\n",
              "      <td>31</td>\n",
              "      <td>1991-06-28</td>\n",
              "      <td>...</td>\n",
              "      <td>79+3</td>\n",
              "      <td>79+3</td>\n",
              "      <td>79+3</td>\n",
              "      <td>78+3</td>\n",
              "      <td>74+3</td>\n",
              "      <td>68+3</td>\n",
              "      <td>68+3</td>\n",
              "      <td>68+3</td>\n",
              "      <td>74+3</td>\n",
              "      <td>21+3</td>\n",
              "    </tr>\n",
              "    <tr>\n",
              "      <th>4</th>\n",
              "      <td>231747</td>\n",
              "      <td>K. Mbappé</td>\n",
              "      <td>Kylian Mbappé Lottin</td>\n",
              "      <td>ST, LW</td>\n",
              "      <td>91</td>\n",
              "      <td>95</td>\n",
              "      <td>190500000.0</td>\n",
              "      <td>230000.0</td>\n",
              "      <td>23</td>\n",
              "      <td>1998-12-20</td>\n",
              "      <td>...</td>\n",
              "      <td>63+3</td>\n",
              "      <td>63+3</td>\n",
              "      <td>63+3</td>\n",
              "      <td>67+3</td>\n",
              "      <td>63+3</td>\n",
              "      <td>54+3</td>\n",
              "      <td>54+3</td>\n",
              "      <td>54+3</td>\n",
              "      <td>63+3</td>\n",
              "      <td>18+3</td>\n",
              "    </tr>\n",
              "  </tbody>\n",
              "</table>\n",
              "<p>5 rows × 103 columns</p>\n",
              "</div>"
            ],
            "text/plain": [
              "   id_jugador    nombre_corto                    nombre_largo  \\\n",
              "0      158023        L. Messi  Lionel Andrés Messi Cuccittini   \n",
              "1      165153      K. Benzema                   Karim Benzema   \n",
              "2      188545  R. Lewandowski              Robert Lewandowski   \n",
              "3      192985    K. De Bruyne                 Kevin De Bruyne   \n",
              "4      231747       K. Mbappé            Kylian Mbappé Lottin   \n",
              "\n",
              "  posiciones_jugador  valoracion_general  potencial    valor_eur  salario_eur  \\\n",
              "0                 RW                  91         91   54000000.0     195000.0   \n",
              "1             CF, ST                  91         91   64000000.0     450000.0   \n",
              "2                 ST                  91         91   84000000.0     420000.0   \n",
              "3            CM, CAM                  91         91  107500000.0     350000.0   \n",
              "4             ST, LW                  91         95  190500000.0     230000.0   \n",
              "\n",
              "   edad fecha_nacimiento  ...  contencion_izq  contencion  contencion_der  \\\n",
              "0    35       1987-06-24  ...            63+3        63+3            63+3   \n",
              "1    34       1987-12-19  ...            64+3        64+3            64+3   \n",
              "2    33       1988-08-21  ...            66+3        66+3            66+3   \n",
              "3    31       1991-06-28  ...            79+3        79+3            79+3   \n",
              "4    23       1998-12-20  ...            63+3        63+3            63+3   \n",
              "\n",
              "  lateral_der_ofensivo  lateral_izq  central_izq central central_der  \\\n",
              "0                 64+3         59+3         50+3    50+3        50+3   \n",
              "1                 64+3         60+3         55+3    55+3        55+3   \n",
              "2                 64+3         61+3         60+3    60+3        60+3   \n",
              "3                 78+3         74+3         68+3    68+3        68+3   \n",
              "4                 67+3         63+3         54+3    54+3        54+3   \n",
              "\n",
              "   lateral_der arquero  \n",
              "0         59+3    19+3  \n",
              "1         60+3    18+3  \n",
              "2         61+3    19+3  \n",
              "3         74+3    21+3  \n",
              "4         63+3    18+3  \n",
              "\n",
              "[5 rows x 103 columns]"
            ]
          },
          "execution_count": 2,
          "metadata": {},
          "output_type": "execute_result"
        }
      ],
      "source": [
        "import pandas as pd\n",
        "# from google.colab import drive\n",
        "# drive.mount('/content/drive')\n",
        "# ruta_csv = \"/content/drive/MyDrive/Trabajo Final Inteligentes - Juan/equipos_filtrados.csv\"\n",
        "\n",
        "df = pd.read_csv(\"jugadores_filtrados.csv\")\n",
        "df.head()"
      ]
    },
    {
      "cell_type": "markdown",
      "metadata": {
        "id": "aVNYu44EenK3"
      },
      "source": [
        "##Despliegue"
      ]
    },
    {
      "cell_type": "code",
      "execution_count": 3,
      "metadata": {
        "colab": {
          "base_uri": "https://localhost:8080/"
        },
        "collapsed": true,
        "id": "uMLJ0toveQ7b",
        "outputId": "31beba6d-8239-4038-d7f5-55458af89ef3"
      },
      "outputs": [
        {
          "name": "stderr",
          "output_type": "stream",
          "text": [
            "\n",
            "[notice] A new release of pip is available: 24.0 -> 25.1.1\n",
            "[notice] To update, run: python.exe -m pip install --upgrade pip\n"
          ]
        }
      ],
      "source": [
        "!pip install streamlit pyngrok --quiet"
      ]
    },
    {
      "cell_type": "markdown",
      "metadata": {
        "id": "pzMtzfRUSVLm"
      },
      "source": [
        "## Creando .py para aplicacion Streamlit"
      ]
    },
    {
      "cell_type": "code",
      "execution_count": 1,
      "metadata": {
        "colab": {
          "base_uri": "https://localhost:8080/"
        },
        "id": "VjfqFHT2epT3",
        "outputId": "16951b8f-197a-4672-8c42-8eaf9c64ae89"
      },
      "outputs": [
        {
          "name": "stdout",
          "output_type": "stream",
          "text": [
            "Overwriting jugadores.py\n"
          ]
        }
      ],
      "source": [
        "%%writefile jugadores.py\n",
        "import os\n",
        "import pandas as pd\n",
        "from llama_index.embeddings.huggingface import HuggingFaceEmbedding\n",
        "from langchain_google_genai import ChatGoogleGenerativeAI\n",
        "import torch\n",
        "import streamlit as st\n",
        "from llama_index.core import load_index_from_storage, VectorStoreIndex, Document, Settings\n",
        "from llama_index.core.storage import StorageContext\n",
        "\n",
        "os.environ[\"GOOGLE_API_KEY\"] = st.secrets[\"GOOGLE_API_KEY\"]\n",
        "# os.environ[\"GOOGLE_API_KEY\"] = \"\" #PONER API KEY DE GOOGLE\n",
        "\n",
        "# Cargar los jugadores\n",
        "df = pd.read_csv(\"jugadores_filtrados.csv\")\n",
        "#df = pd.read_csv(\"jugadores_RealMadrid.csv\")\n",
        "\n",
        "# Convertir cada fila a un documento de texto para indexar\n",
        "documents = []\n",
        "for _, row in df.iterrows():\n",
        "    text = \"\\n\".join([f\"{col}: {row[col]}\" for col in df.columns])\n",
        "    documents.append(Document(text=text))\n",
        "\n",
        "# Usar embeddings con GPU si hay disponible\n",
        "device = \"cuda\" if torch.cuda.is_available() else \"cpu\"\n",
        "embed_model = HuggingFaceEmbedding(\n",
        "    model_name=\"sentence-transformers/all-mpnet-base-v2\",#all-MiniLM-L12-v2/all-MiniLM-L6-v2/all-mpnet-base-v2\n",
        "    device=device\n",
        ")\n",
        "\n",
        "# Cliente Gemini LLM\n",
        "llm = ChatGoogleGenerativeAI(model=\"gemini-2.0-flash\", temperature=0)\n",
        "\n",
        "# Crear contexto de servicio\n",
        "Settings.llm = llm\n",
        "Settings.embed_model = embed_model\n",
        "\n",
        "# Creando indice\n",
        "index = VectorStoreIndex.from_documents(documents)\n",
        "query_engine = index.as_query_engine(similarity_top_k=3)\n",
        "\n",
        "# # Guardar el indice\n",
        "# from google.colab import drive\n",
        "# drive.mount('/content/drive')\n",
        "# persist_dir = \"/content/drive/MyDrive/indice_jugadores\"\n",
        "# index.storage_context.persist(persist_dir=persist_dir)\n",
        "\n",
        "#Cargar carpeta con indices para que tarde menos\n",
        "# @st.cache_resource\n",
        "# def cargar_query_engine():\n",
        "#     # Cargar el storage context desde el directorio\n",
        "#     storage_context = StorageContext.from_defaults(persist_dir=\"indice_jugadores\")\n",
        "#     # Cargar el indice desde el contexto\n",
        "#     index = load_index_from_storage(storage_context)\n",
        "#     # Crear el query engine\n",
        "#     return index.as_query_engine(similarity_top_k=3)\n",
        "\n",
        "# query_engine = cargar_query_engine()\n",
        "\n",
        "# Interfaz de usuario\n",
        "st.set_page_config(\n",
        "    page_title=\"Consultas FIFA 23 - Jugadores\",\n",
        "    page_icon=\"⚽\",\n",
        "    layout=\"centered\"\n",
        ")\n",
        "\n",
        "st.title(\"Consultas FIFA 23 - Jugadorees\")\n",
        "st.markdown(\"### 🧠 Ejemplos de preguntas que podes hacer:\")\n",
        "\n",
        "ejemplos = [\n",
        "    \"¿Cual es la valoracion de Lionel Messi?\",\n",
        "    \"¿Cuanto vale en euros Kevin De Bruyne?\",\n",
        "    \"¿Cuantos años tiene Luka Modric?\",\n",
        "    \"¿En que posicion juega Dibu Martinez?\",\n",
        "    \"¿Cual es la velocidad de Kylian Mbappe?\",\n",
        "    \"¿Cual es el salario de Karim Benzema?\",\n",
        "    \"¿Cual es la resistencia y fuerza de Neymar Jr?\",\n",
        "]\n",
        "\n",
        "# Mostrar los ejemplos con botones\n",
        "for i, ejemplo in enumerate(ejemplos):\n",
        "    col1, col2 = st.columns([0.8, 0.2])\n",
        "    with col1:\n",
        "        st.markdown(f\"- {ejemplo}\")\n",
        "    with col2:\n",
        "        if st.button(\"Consultar\", key=f\"btn_{i}\"):\n",
        "            st.session_state[\"consulta\"] = ejemplo\n",
        "\n",
        "# Campo de entrada manual\n",
        "consulta = st.text_input(\"Ingresa tu consulta:\", value=st.session_state.get(\"consulta\", \"\"))\n",
        "\n",
        "# Ejecutar si hay una consulta\n",
        "if consulta:\n",
        "    with st.spinner(\"⏳ Procesando tu consulta...\"):\n",
        "        consulta_modificada = consulta.strip() + \". Responde en español.\"\n",
        "        respuesta_llm = llm.invoke(consulta_modificada)\n",
        "        respuesta_rag = query_engine.query(consulta_modificada)\n",
        "\n",
        "    st.success(\"✅ Consulta completada\")\n",
        "\n",
        "    st.markdown(\"### 💬 Respuesta sin RAG:\")\n",
        "    st.write(respuesta_llm.content)\n",
        "\n",
        "    st.markdown(\"### 🔍 Respuesta con RAG:\")\n",
        "    st.write(str(respuesta_rag))\n",
        "    print(consulta_modificada, str(respuesta_rag))"
      ]
    },
    {
      "cell_type": "markdown",
      "metadata": {
        "id": "GBy9NGEfSkBW"
      },
      "source": [
        "## 🌐 Aplicacion publica con NGrok"
      ]
    },
    {
      "cell_type": "code",
      "execution_count": null,
      "metadata": {
        "colab": {
          "base_uri": "https://localhost:8080/"
        },
        "id": "WjL8CL_7l6yx",
        "outputId": "81155199-8f5f-451d-88b1-cad6247b45af"
      },
      "outputs": [
        {
          "name": "stdout",
          "output_type": "stream",
          "text": [
            "URL publica:\n",
            " NgrokTunnel: \"https://6eb9-34-126-142-57.ngrok-free.app\" -> \"http://localhost:8501\"\n",
            "\n",
            "Collecting usage statistics. To deactivate, set browser.gatherUsageStats to false.\n",
            "\u001b[0m\n",
            "\u001b[0m\n",
            "\u001b[34m\u001b[1m  You can now view your Streamlit app in your browser.\u001b[0m\n",
            "\u001b[0m\n",
            "\u001b[34m  Local URL: \u001b[0m\u001b[1mhttp://localhost:8501\u001b[0m\n",
            "\u001b[34m  Network URL: \u001b[0m\u001b[1mhttp://172.28.0.12:8501\u001b[0m\n",
            "\u001b[34m  External URL: \u001b[0m\u001b[1mhttp://34.126.142.57:8501\u001b[0m\n",
            "\u001b[0m\n",
            "2025-06-28 12:44:09.119134: E external/local_xla/xla/stream_executor/cuda/cuda_fft.cc:477] Unable to register cuFFT factory: Attempting to register factory for plugin cuFFT when one has already been registered\n",
            "WARNING: All log messages before absl::InitializeLog() is called are written to STDERR\n",
            "E0000 00:00:1751114649.143652    6020 cuda_dnn.cc:8310] Unable to register cuDNN factory: Attempting to register factory for plugin cuDNN when one has already been registered\n",
            "E0000 00:00:1751114649.151041    6020 cuda_blas.cc:1418] Unable to register cuBLAS factory: Attempting to register factory for plugin cuBLAS when one has already been registered\n",
            "2025-06-28 12:44:09.175261: I tensorflow/core/platform/cpu_feature_guard.cc:210] This TensorFlow binary is optimized to use available CPU instructions in performance-critical operations.\n",
            "To enable the following instructions: AVX2 AVX512F FMA, in other operations, rebuild TensorFlow with the appropriate compiler flags.\n",
            "Loading llama_index.core.storage.kvstore.simple_kvstore from indice_jugadores_base2/docstore.json.\n",
            "Loading llama_index.core.storage.kvstore.simple_kvstore from indice_jugadores_base2/index_store.json.\n",
            "¿Cual es la valoracion de Lionel Messi?. Responde en español. La valoración general de Lionel Messi es 91.\n",
            "¿Cuanto vale en euros Kevin De Bruyne?. Responde en español. Kevin De Bruyne vale 107500000.0 euros.\n",
            "Lionel Messi. Responde en español. Lionel Andrés Messi Cuccittini juega como delantero derecho en el Paris Saint Germain y en la selección de Argentina. Tiene 35 años, una valoración general de 91 y un potencial de 91. Su salario es de 195000.0 EUR.\n"
          ]
        },
        {
          "name": "stderr",
          "output_type": "stream",
          "text": [
            "WARNING:pyngrok.process.ngrok:t=2025-06-28T13:29:10+0000 lvl=warn msg=\"Stopping forwarder\" name=http-8501-6febf933-bfbd-427b-beca-b105e8f7fd1c acceptErr=\"failed to accept connection: Listener closed\"\n",
            "WARNING:pyngrok.process.ngrok:t=2025-06-28T13:29:10+0000 lvl=warn msg=\"Error restarting forwarder\" name=http-8501-6febf933-bfbd-427b-beca-b105e8f7fd1c err=\"failed to start tunnel: session closed\"\n"
          ]
        },
        {
          "name": "stdout",
          "output_type": "stream",
          "text": [
            "\u001b[34m  Stopping...\u001b[0m\n"
          ]
        }
      ],
      "source": [
        "from pyngrok import ngrok, conf\n",
        "\n",
        "conf.get_default().auth_token = \"\" # PONER TOKEN NGROK\n",
        "# Crear tunel\n",
        "public_url = ngrok.connect(addr=\"8501\", proto=\"http\")\n",
        "print(\"URL publica:\\n\", public_url)\n",
        "# Ejecutar Streamlit\n",
        "!streamlit run app.py &\n",
        "# 3 minutos aprox en levantar (cargando indices base2)"
      ]
    }
  ],
  "metadata": {
    "accelerator": "GPU",
    "colab": {
      "gpuType": "T4",
      "provenance": []
    },
    "kernelspec": {
      "display_name": "Python 3",
      "name": "python3"
    },
    "language_info": {
      "codemirror_mode": {
        "name": "ipython",
        "version": 3
      },
      "file_extension": ".py",
      "mimetype": "text/x-python",
      "name": "python",
      "nbconvert_exporter": "python",
      "pygments_lexer": "ipython3",
      "version": "3.12.2"
    }
  },
  "nbformat": 4,
  "nbformat_minor": 0
}
